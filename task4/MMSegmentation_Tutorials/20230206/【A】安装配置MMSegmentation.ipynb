{
 "cells": [
  {
   "cell_type": "markdown",
   "id": "bc3d1961-9081-49c9-be56-ad0c748decf1",
   "metadata": {},
   "source": [
    "# 安装配置MMSegmentation"
   ]
  },
  {
   "cell_type": "markdown",
   "id": "0fc8ebd8-db6e-4a17-895f-2f87fc98ca79",
   "metadata": {},
   "source": [
    "按照顺序逐行运行本代码，即可安装配置 MMCV、MMSegmentation环境\n",
    "\n",
    "推荐代码运行[云GPU环境](https://featurize.cn?s=d7ce99f842414bfcaea5662a97581bd1)：GPU RTX 3060、CUDA v11.2\n",
    "\n",
    "作者：同济子豪兄 2023-1-11"
   ]
  },
  {
   "cell_type": "markdown",
   "id": "63d0dc47-4601-49a3-8d25-12b4d24fa6f0",
   "metadata": {},
   "source": [
    "> 提示：以下代码运行时，若长时间运行卡着不动，可重启 kernel 后重新运行一遍"
   ]
  },
  {
   "cell_type": "markdown",
   "id": "6fc1c686-1267-4503-b9e4-bcb188a7f974",
   "metadata": {
    "tags": []
   },
   "source": [
    "## 安装Pytorch"
   ]
  },
  {
   "cell_type": "code",
   "execution_count": 1,
   "id": "2fef57fc-d5f0-4cd0-a134-1f025c15439f",
   "metadata": {},
   "outputs": [
    {
     "name": "stdout",
     "output_type": "stream",
     "text": [
      "Looking in indexes: https://pypi.tuna.tsinghua.edu.cn/simple\n",
      "Looking in links: https://download.pytorch.org/whl/cu113/torch_stable.html\n",
      "Requirement already satisfied: install in /environment/miniconda3/lib/python3.7/site-packages (1.3.5)\n",
      "Requirement already satisfied: torch==1.10.1+cu113 in /environment/miniconda3/lib/python3.7/site-packages (1.10.1+cu113)\n",
      "Requirement already satisfied: torchvision==0.11.2+cu113 in /environment/miniconda3/lib/python3.7/site-packages (0.11.2+cu113)\n",
      "Requirement already satisfied: torchaudio==0.10.1+cu113 in /environment/miniconda3/lib/python3.7/site-packages (0.10.1+cu113)\n",
      "Requirement already satisfied: typing-extensions in /environment/miniconda3/lib/python3.7/site-packages (from torch==1.10.1+cu113) (4.0.1)\n",
      "Requirement already satisfied: pillow!=8.3.0,>=5.3.0 in /environment/miniconda3/lib/python3.7/site-packages (from torchvision==0.11.2+cu113) (8.4.0)\n",
      "Requirement already satisfied: numpy in /environment/miniconda3/lib/python3.7/site-packages (from torchvision==0.11.2+cu113) (1.21.4)\n"
     ]
    }
   ],
   "source": [
    "# 安装Pytorch\n",
    "!pip3 install install torch==1.10.1+cu113 torchvision==0.11.2+cu113 torchaudio==0.10.1+cu113 -f https://download.pytorch.org/whl/cu113/torch_stable.html\n"
   ]
  },
  {
   "cell_type": "markdown",
   "id": "054b64e4-4796-4136-b45e-3664b281cf30",
   "metadata": {},
   "source": [
    "## 用MIM安装MMCV"
   ]
  },
  {
   "cell_type": "code",
   "execution_count": 2,
   "id": "83b1c9e3-0d69-423d-a8a2-172d18dfdb33",
   "metadata": {},
   "outputs": [
    {
     "name": "stdout",
     "output_type": "stream",
     "text": [
      "Looking in indexes: https://pypi.tuna.tsinghua.edu.cn/simple\n",
      "Requirement already satisfied: openmim in /environment/miniconda3/lib/python3.7/site-packages (0.3.5)\n",
      "Requirement already satisfied: requests in /environment/miniconda3/lib/python3.7/site-packages (from openmim) (2.24.0)\n",
      "Requirement already satisfied: pip>=19.3 in /environment/miniconda3/lib/python3.7/site-packages (from openmim) (21.1.3)\n",
      "Requirement already satisfied: Click in /environment/miniconda3/lib/python3.7/site-packages (from openmim) (7.1.2)\n",
      "Requirement already satisfied: rich in /environment/miniconda3/lib/python3.7/site-packages (from openmim) (13.3.1)\n",
      "Requirement already satisfied: colorama in /environment/miniconda3/lib/python3.7/site-packages (from openmim) (0.4.4)\n",
      "Requirement already satisfied: pandas in /environment/miniconda3/lib/python3.7/site-packages (from openmim) (1.3.4)\n",
      "Requirement already satisfied: model-index in /environment/miniconda3/lib/python3.7/site-packages (from openmim) (0.1.11)\n",
      "Requirement already satisfied: tabulate in /environment/miniconda3/lib/python3.7/site-packages (from openmim) (0.8.7)\n",
      "Requirement already satisfied: pyyaml in /environment/miniconda3/lib/python3.7/site-packages (from model-index->openmim) (6.0)\n",
      "Requirement already satisfied: markdown in /environment/miniconda3/lib/python3.7/site-packages (from model-index->openmim) (3.3.6)\n",
      "Requirement already satisfied: ordered-set in /environment/miniconda3/lib/python3.7/site-packages (from model-index->openmim) (4.1.0)\n",
      "Requirement already satisfied: importlib-metadata>=4.4 in /environment/miniconda3/lib/python3.7/site-packages (from markdown->model-index->openmim) (4.8.2)\n",
      "Requirement already satisfied: zipp>=0.5 in /environment/miniconda3/lib/python3.7/site-packages (from importlib-metadata>=4.4->markdown->model-index->openmim) (3.6.0)\n",
      "Requirement already satisfied: typing-extensions>=3.6.4 in /environment/miniconda3/lib/python3.7/site-packages (from importlib-metadata>=4.4->markdown->model-index->openmim) (4.0.1)\n",
      "Requirement already satisfied: pytz>=2017.3 in /environment/miniconda3/lib/python3.7/site-packages (from pandas->openmim) (2021.3)\n",
      "Requirement already satisfied: numpy>=1.17.3 in /environment/miniconda3/lib/python3.7/site-packages (from pandas->openmim) (1.21.4)\n",
      "Requirement already satisfied: python-dateutil>=2.7.3 in /environment/miniconda3/lib/python3.7/site-packages (from pandas->openmim) (2.8.2)\n",
      "Requirement already satisfied: six>=1.5 in /environment/miniconda3/lib/python3.7/site-packages (from python-dateutil>=2.7.3->pandas->openmim) (1.16.0)\n",
      "Requirement already satisfied: chardet<4,>=3.0.2 in /environment/miniconda3/lib/python3.7/site-packages (from requests->openmim) (3.0.4)\n",
      "Requirement already satisfied: certifi>=2017.4.17 in /environment/miniconda3/lib/python3.7/site-packages (from requests->openmim) (2021.5.30)\n",
      "Requirement already satisfied: idna<3,>=2.5 in /environment/miniconda3/lib/python3.7/site-packages (from requests->openmim) (2.10)\n",
      "Requirement already satisfied: urllib3!=1.25.0,!=1.25.1,<1.26,>=1.21.1 in /environment/miniconda3/lib/python3.7/site-packages (from requests->openmim) (1.25.11)\n",
      "Requirement already satisfied: markdown-it-py<3.0.0,>=2.1.0 in /environment/miniconda3/lib/python3.7/site-packages (from rich->openmim) (2.1.0)\n",
      "Requirement already satisfied: pygments<3.0.0,>=2.14.0 in /environment/miniconda3/lib/python3.7/site-packages (from rich->openmim) (2.14.0)\n",
      "Requirement already satisfied: mdurl~=0.1 in /environment/miniconda3/lib/python3.7/site-packages (from markdown-it-py<3.0.0,>=2.1.0->rich->openmim) (0.1.2)\n",
      "Looking in indexes: https://pypi.tuna.tsinghua.edu.cn/simple\n",
      "Looking in links: https://download.openmmlab.com/mmcv/dist/cu113/torch1.10.0/index.html\n",
      "Requirement already satisfied: mmengine in /environment/miniconda3/lib/python3.7/site-packages (0.5.0)\n",
      "Requirement already satisfied: rich in /environment/miniconda3/lib/python3.7/site-packages (from mmengine) (13.3.1)\n",
      "Requirement already satisfied: pyyaml in /environment/miniconda3/lib/python3.7/site-packages (from mmengine) (6.0)\n",
      "Requirement already satisfied: yapf in /environment/miniconda3/lib/python3.7/site-packages (from mmengine) (0.31.0)\n",
      "Requirement already satisfied: addict in /environment/miniconda3/lib/python3.7/site-packages (from mmengine) (2.4.0)\n",
      "Requirement already satisfied: opencv-python>=3 in /environment/miniconda3/lib/python3.7/site-packages (from mmengine) (4.5.4.60)\n",
      "Requirement already satisfied: numpy in /environment/miniconda3/lib/python3.7/site-packages (from mmengine) (1.21.4)\n",
      "Requirement already satisfied: termcolor in /environment/miniconda3/lib/python3.7/site-packages (from mmengine) (1.1.0)\n",
      "Requirement already satisfied: matplotlib in /environment/miniconda3/lib/python3.7/site-packages (from mmengine) (3.5.0)\n",
      "Requirement already satisfied: pillow>=6.2.0 in /environment/miniconda3/lib/python3.7/site-packages (from matplotlib->mmengine) (8.4.0)\n",
      "Requirement already satisfied: pyparsing>=2.2.1 in /environment/miniconda3/lib/python3.7/site-packages (from matplotlib->mmengine) (3.0.6)\n",
      "Requirement already satisfied: packaging>=20.0 in /environment/miniconda3/lib/python3.7/site-packages (from matplotlib->mmengine) (21.3)\n",
      "Requirement already satisfied: kiwisolver>=1.0.1 in /environment/miniconda3/lib/python3.7/site-packages (from matplotlib->mmengine) (1.3.2)\n",
      "Requirement already satisfied: python-dateutil>=2.7 in /environment/miniconda3/lib/python3.7/site-packages (from matplotlib->mmengine) (2.8.2)\n",
      "Requirement already satisfied: fonttools>=4.22.0 in /environment/miniconda3/lib/python3.7/site-packages (from matplotlib->mmengine) (4.28.3)\n",
      "Requirement already satisfied: setuptools-scm>=4 in /environment/miniconda3/lib/python3.7/site-packages (from matplotlib->mmengine) (6.3.2)\n",
      "Requirement already satisfied: cycler>=0.10 in /environment/miniconda3/lib/python3.7/site-packages (from matplotlib->mmengine) (0.11.0)\n",
      "Requirement already satisfied: six>=1.5 in /environment/miniconda3/lib/python3.7/site-packages (from python-dateutil>=2.7->matplotlib->mmengine) (1.16.0)\n",
      "Requirement already satisfied: setuptools in /environment/miniconda3/lib/python3.7/site-packages (from setuptools-scm>=4->matplotlib->mmengine) (52.0.0.post20210125)\n",
      "Requirement already satisfied: tomli>=1.0.0 in /environment/miniconda3/lib/python3.7/site-packages (from setuptools-scm>=4->matplotlib->mmengine) (1.2.2)\n",
      "Requirement already satisfied: pygments<3.0.0,>=2.14.0 in /environment/miniconda3/lib/python3.7/site-packages (from rich->mmengine) (2.14.0)\n",
      "Requirement already satisfied: typing-extensions<5.0,>=4.0.0 in /environment/miniconda3/lib/python3.7/site-packages (from rich->mmengine) (4.0.1)\n",
      "Requirement already satisfied: markdown-it-py<3.0.0,>=2.1.0 in /environment/miniconda3/lib/python3.7/site-packages (from rich->mmengine) (2.1.0)\n",
      "Requirement already satisfied: mdurl~=0.1 in /environment/miniconda3/lib/python3.7/site-packages (from markdown-it-py<3.0.0,>=2.1.0->rich->mmengine) (0.1.2)\n",
      "Looking in indexes: https://pypi.tuna.tsinghua.edu.cn/simple\n",
      "Looking in links: https://download.openmmlab.com/mmcv/dist/cu113/torch1.10.0/index.html\n",
      "Collecting mmcv==2.0.0rc3\n",
      "  Downloading https://download.openmmlab.com/mmcv/dist/cu113/torch1.10.0/mmcv-2.0.0rc3-cp37-cp37m-manylinux1_x86_64.whl (57.9 MB)\n",
      "\u001b[K     |████████████████████████████████| 57.9 MB 4.3 MB/s eta 0:00:01    |█████▏                          | 9.3 MB 5.7 MB/s eta 0:00:09     |████████▊                       | 15.8 MB 3.9 MB/s eta 0:00:11     |█████████▌                      | 17.3 MB 5.6 MB/s eta 0:00:08     |█████████▊                      | 17.7 MB 5.6 MB/s eta 0:00:08     |██████████                      | 18.0 MB 5.6 MB/s eta 0:00:08     |███████████                     | 19.9 MB 5.6 MB/s eta 0:00:07     |███████████                     | 20.1 MB 5.6 MB/s eta 0:00:07     |████████████▋                   | 22.8 MB 2.1 MB/s eta 0:00:17\n",
      "\u001b[?25hRequirement already satisfied: addict in /environment/miniconda3/lib/python3.7/site-packages (from mmcv==2.0.0rc3) (2.4.0)\n",
      "Requirement already satisfied: packaging in /environment/miniconda3/lib/python3.7/site-packages (from mmcv==2.0.0rc3) (21.3)\n",
      "Requirement already satisfied: pyyaml in /environment/miniconda3/lib/python3.7/site-packages (from mmcv==2.0.0rc3) (6.0)\n",
      "Requirement already satisfied: opencv-python>=3 in /environment/miniconda3/lib/python3.7/site-packages (from mmcv==2.0.0rc3) (4.5.4.60)\n",
      "Requirement already satisfied: Pillow in /environment/miniconda3/lib/python3.7/site-packages (from mmcv==2.0.0rc3) (8.4.0)\n",
      "Requirement already satisfied: mmengine in /environment/miniconda3/lib/python3.7/site-packages (from mmcv==2.0.0rc3) (0.5.0)\n",
      "Requirement already satisfied: numpy in /environment/miniconda3/lib/python3.7/site-packages (from mmcv==2.0.0rc3) (1.21.4)\n",
      "Requirement already satisfied: yapf in /environment/miniconda3/lib/python3.7/site-packages (from mmcv==2.0.0rc3) (0.31.0)\n",
      "Requirement already satisfied: matplotlib in /environment/miniconda3/lib/python3.7/site-packages (from mmengine->mmcv==2.0.0rc3) (3.5.0)\n",
      "Requirement already satisfied: rich in /environment/miniconda3/lib/python3.7/site-packages (from mmengine->mmcv==2.0.0rc3) (13.3.1)\n",
      "Requirement already satisfied: termcolor in /environment/miniconda3/lib/python3.7/site-packages (from mmengine->mmcv==2.0.0rc3) (1.1.0)\n",
      "Requirement already satisfied: python-dateutil>=2.7 in /environment/miniconda3/lib/python3.7/site-packages (from matplotlib->mmengine->mmcv==2.0.0rc3) (2.8.2)\n",
      "Requirement already satisfied: fonttools>=4.22.0 in /environment/miniconda3/lib/python3.7/site-packages (from matplotlib->mmengine->mmcv==2.0.0rc3) (4.28.3)\n",
      "Requirement already satisfied: cycler>=0.10 in /environment/miniconda3/lib/python3.7/site-packages (from matplotlib->mmengine->mmcv==2.0.0rc3) (0.11.0)\n",
      "Requirement already satisfied: pyparsing>=2.2.1 in /environment/miniconda3/lib/python3.7/site-packages (from matplotlib->mmengine->mmcv==2.0.0rc3) (3.0.6)\n",
      "Requirement already satisfied: kiwisolver>=1.0.1 in /environment/miniconda3/lib/python3.7/site-packages (from matplotlib->mmengine->mmcv==2.0.0rc3) (1.3.2)\n",
      "Requirement already satisfied: setuptools-scm>=4 in /environment/miniconda3/lib/python3.7/site-packages (from matplotlib->mmengine->mmcv==2.0.0rc3) (6.3.2)\n",
      "Requirement already satisfied: six>=1.5 in /environment/miniconda3/lib/python3.7/site-packages (from python-dateutil>=2.7->matplotlib->mmengine->mmcv==2.0.0rc3) (1.16.0)\n",
      "Requirement already satisfied: tomli>=1.0.0 in /environment/miniconda3/lib/python3.7/site-packages (from setuptools-scm>=4->matplotlib->mmengine->mmcv==2.0.0rc3) (1.2.2)\n",
      "Requirement already satisfied: setuptools in /environment/miniconda3/lib/python3.7/site-packages (from setuptools-scm>=4->matplotlib->mmengine->mmcv==2.0.0rc3) (52.0.0.post20210125)\n",
      "Requirement already satisfied: typing-extensions<5.0,>=4.0.0 in /environment/miniconda3/lib/python3.7/site-packages (from rich->mmengine->mmcv==2.0.0rc3) (4.0.1)\n",
      "Requirement already satisfied: pygments<3.0.0,>=2.14.0 in /environment/miniconda3/lib/python3.7/site-packages (from rich->mmengine->mmcv==2.0.0rc3) (2.14.0)\n",
      "Requirement already satisfied: markdown-it-py<3.0.0,>=2.1.0 in /environment/miniconda3/lib/python3.7/site-packages (from rich->mmengine->mmcv==2.0.0rc3) (2.1.0)\n",
      "Requirement already satisfied: mdurl~=0.1 in /environment/miniconda3/lib/python3.7/site-packages (from markdown-it-py<3.0.0,>=2.1.0->rich->mmengine->mmcv==2.0.0rc3) (0.1.2)\n",
      "Installing collected packages: mmcv\n",
      "  Attempting uninstall: mmcv\n",
      "    Found existing installation: mmcv 2.0.0rc4\n",
      "    Uninstalling mmcv-2.0.0rc4:\n",
      "      Successfully uninstalled mmcv-2.0.0rc4\n",
      "\u001b[31mERROR: pip's dependency resolver does not currently take into account all the packages that are installed. This behaviour is the source of the following dependency conflicts.\n",
      "mmsegmentation 1.0.0rc4 requires mmcls>=1.0.0rc0, which is not installed.\u001b[0m\n",
      "Successfully installed mmcv-2.0.0rc3\n"
     ]
    }
   ],
   "source": [
    "!pip install -U openmim\n",
    "!mim install mmengine\n",
    "# !mim install 'mmcv>=2.0.0rc1'\n",
    "!mim install 'mmcv==2.0.0rc3'"
   ]
  },
  {
   "cell_type": "markdown",
   "id": "38c55520-071b-41de-91f4-3ec78e16bf27",
   "metadata": {},
   "source": [
    "## 安装其它工具包"
   ]
  },
  {
   "cell_type": "code",
   "execution_count": 3,
   "id": "eb4b3373-f117-46a9-ab43-e67753eb7c61",
   "metadata": {},
   "outputs": [
    {
     "name": "stdout",
     "output_type": "stream",
     "text": [
      "Looking in indexes: https://pypi.tuna.tsinghua.edu.cn/simple\n",
      "Requirement already satisfied: opencv-python in /environment/miniconda3/lib/python3.7/site-packages (4.5.4.60)\n",
      "Requirement already satisfied: pillow in /environment/miniconda3/lib/python3.7/site-packages (8.4.0)\n",
      "Requirement already satisfied: matplotlib in /environment/miniconda3/lib/python3.7/site-packages (3.5.0)\n",
      "Requirement already satisfied: seaborn in /environment/miniconda3/lib/python3.7/site-packages (0.12.2)\n",
      "Requirement already satisfied: tqdm in /environment/miniconda3/lib/python3.7/site-packages (4.61.2)\n",
      "Requirement already satisfied: mmdet>=3.0.0rc1 in /environment/miniconda3/lib/python3.7/site-packages (3.0.0rc5)\n",
      "Requirement already satisfied: terminaltables in /environment/miniconda3/lib/python3.7/site-packages (from mmdet>=3.0.0rc1) (3.1.10)\n",
      "Requirement already satisfied: pycocotools in /environment/miniconda3/lib/python3.7/site-packages (from mmdet>=3.0.0rc1) (2.0.6)\n",
      "Requirement already satisfied: numpy in /environment/miniconda3/lib/python3.7/site-packages (from mmdet>=3.0.0rc1) (1.21.4)\n",
      "Requirement already satisfied: six in /environment/miniconda3/lib/python3.7/site-packages (from mmdet>=3.0.0rc1) (1.16.0)\n",
      "Requirement already satisfied: scipy in /environment/miniconda3/lib/python3.7/site-packages (from mmdet>=3.0.0rc1) (1.7.3)\n",
      "Requirement already satisfied: pyparsing>=2.2.1 in /environment/miniconda3/lib/python3.7/site-packages (from matplotlib) (3.0.6)\n",
      "Requirement already satisfied: setuptools-scm>=4 in /environment/miniconda3/lib/python3.7/site-packages (from matplotlib) (6.3.2)\n",
      "Requirement already satisfied: kiwisolver>=1.0.1 in /environment/miniconda3/lib/python3.7/site-packages (from matplotlib) (1.3.2)\n",
      "Requirement already satisfied: cycler>=0.10 in /environment/miniconda3/lib/python3.7/site-packages (from matplotlib) (0.11.0)\n",
      "Requirement already satisfied: python-dateutil>=2.7 in /environment/miniconda3/lib/python3.7/site-packages (from matplotlib) (2.8.2)\n",
      "Requirement already satisfied: fonttools>=4.22.0 in /environment/miniconda3/lib/python3.7/site-packages (from matplotlib) (4.28.3)\n",
      "Requirement already satisfied: packaging>=20.0 in /environment/miniconda3/lib/python3.7/site-packages (from matplotlib) (21.3)\n",
      "Requirement already satisfied: setuptools in /environment/miniconda3/lib/python3.7/site-packages (from setuptools-scm>=4->matplotlib) (52.0.0.post20210125)\n",
      "Requirement already satisfied: tomli>=1.0.0 in /environment/miniconda3/lib/python3.7/site-packages (from setuptools-scm>=4->matplotlib) (1.2.2)\n",
      "Requirement already satisfied: pandas>=0.25 in /environment/miniconda3/lib/python3.7/site-packages (from seaborn) (1.3.4)\n",
      "Requirement already satisfied: typing_extensions in /environment/miniconda3/lib/python3.7/site-packages (from seaborn) (4.0.1)\n",
      "Requirement already satisfied: pytz>=2017.3 in /environment/miniconda3/lib/python3.7/site-packages (from pandas>=0.25->seaborn) (2021.3)\n"
     ]
    }
   ],
   "source": [
    "!pip install opencv-python pillow matplotlib seaborn tqdm 'mmdet>=3.0.0rc1' -i https://pypi.tuna.tsinghua.edu.cn/simple\n"
   ]
  },
  {
   "cell_type": "markdown",
   "id": "0defb2f8-d5ab-4ee4-a66f-85cc17c221de",
   "metadata": {
    "tags": []
   },
   "source": [
    "## 下载 MMSegmentation"
   ]
  },
  {
   "cell_type": "code",
   "execution_count": 4,
   "id": "89026868-58b1-4755-aca3-ded98451e906",
   "metadata": {},
   "outputs": [],
   "source": [
    "# 删掉原有的 mmtracking 文件夹（如有）\n",
    "!rm -rf mmsegmentation"
   ]
  },
  {
   "cell_type": "code",
   "execution_count": 5,
   "id": "09c51fee-d040-46cf-8d86-c0248ab7fe84",
   "metadata": {},
   "outputs": [
    {
     "name": "stdout",
     "output_type": "stream",
     "text": [
      "正克隆到 'mmsegmentation'...\n",
      "remote: Enumerating objects: 13294, done.\u001b[K\n",
      "remote: Counting objects: 100% (196/196), done.\u001b[K\n",
      "remote: Compressing objects: 100% (166/166), done.\u001b[K\n",
      "remote: Total 13294 (delta 62), reused 99 (delta 23), pack-reused 13098\u001b[K\n",
      "接收对象中: 100% (13294/13294), 15.44 MiB | 8.06 MiB/s, 完成.\n",
      "处理 delta 中: 100% (9500/9500), 完成.\n",
      "正在更新文件: 100% (1323/1323), 完成.\n"
     ]
    }
   ],
   "source": [
    "# 从 github 上下载最新的 mmsegmentation 源代码\n",
    "!git clone https://github.com/open-mmlab/mmsegmentation.git -b dev-1.x"
   ]
  },
  {
   "cell_type": "code",
   "execution_count": 6,
   "id": "b6a71270-f87b-4cf3-87f0-771f45f38c28",
   "metadata": {},
   "outputs": [],
   "source": [
    "# 进入主目录\n",
    "import os\n",
    "os.chdir('mmsegmentation')"
   ]
  },
  {
   "cell_type": "markdown",
   "id": "f1cd1922-e20a-459a-bf45-e826d8245d88",
   "metadata": {},
   "source": [
    "## 安装 MMSegmentation"
   ]
  },
  {
   "cell_type": "code",
   "execution_count": 7,
   "id": "21e78bae-1d33-478d-8b72-5e8584f6cadf",
   "metadata": {},
   "outputs": [
    {
     "name": "stdout",
     "output_type": "stream",
     "text": [
      "Using pip 21.1.3 from /environment/miniconda3/lib/python3.7/site-packages/pip (python 3.7)\n",
      "Non-user install because site-packages writeable\n",
      "Created temporary directory: /tmp/pip-ephem-wheel-cache-warj5xjp\n",
      "Created temporary directory: /tmp/pip-req-tracker-cw00p3p_\n",
      "Initialized build tracking at /tmp/pip-req-tracker-cw00p3p_\n",
      "Created build tracker: /tmp/pip-req-tracker-cw00p3p_\n",
      "Entered build tracker: /tmp/pip-req-tracker-cw00p3p_\n",
      "Created temporary directory: /tmp/pip-install-whxxcbls\n",
      "Looking in indexes: https://pypi.tuna.tsinghua.edu.cn/simple\n",
      "Obtaining file:///home/featurize/work/MMSegmentation%E6%95%99%E7%A8%8B/mmsegmentation\n",
      "  Added file:///home/featurize/work/MMSegmentation%E6%95%99%E7%A8%8B/mmsegmentation to build tracker '/tmp/pip-req-tracker-cw00p3p_'\n",
      "    Running setup.py (path:/home/featurize/work/MMSegmentation教程/mmsegmentation/setup.py) egg_info for package from file:///home/featurize/work/MMSegmentation%E6%95%99%E7%A8%8B/mmsegmentation\n",
      "    Created temporary directory: /tmp/pip-pip-egg-info-jmfdvt3x\n",
      "    Running command python setup.py egg_info\n",
      "    running egg_info\n",
      "    creating /tmp/pip-pip-egg-info-jmfdvt3x/mmsegmentation.egg-info\n",
      "    writing /tmp/pip-pip-egg-info-jmfdvt3x/mmsegmentation.egg-info/PKG-INFO\n",
      "    writing dependency_links to /tmp/pip-pip-egg-info-jmfdvt3x/mmsegmentation.egg-info/dependency_links.txt\n",
      "    writing requirements to /tmp/pip-pip-egg-info-jmfdvt3x/mmsegmentation.egg-info/requires.txt\n",
      "    writing top-level names to /tmp/pip-pip-egg-info-jmfdvt3x/mmsegmentation.egg-info/top_level.txt\n",
      "    writing manifest file '/tmp/pip-pip-egg-info-jmfdvt3x/mmsegmentation.egg-info/SOURCES.txt'\n",
      "    reading manifest template 'MANIFEST.in'\n",
      "    warning: no files found matching 'mmseg/.mim/model-index.yml'\n",
      "    warning: no files found matching '*.py' under directory 'mmseg/.mim/configs'\n",
      "    warning: no files found matching '*.yml' under directory 'mmseg/.mim/configs'\n",
      "    warning: no files found matching '*.py' under directory 'mmseg/.mim/tools'\n",
      "    warning: no files found matching '*.sh' under directory 'mmseg/.mim/tools'\n",
      "    writing manifest file '/tmp/pip-pip-egg-info-jmfdvt3x/mmsegmentation.egg-info/SOURCES.txt'\n",
      "  Source in /home/featurize/work/MMSegmentation教程/mmsegmentation has version 1.0.0rc4, which satisfies requirement mmsegmentation==1.0.0rc4 from file:///home/featurize/work/MMSegmentation%E6%95%99%E7%A8%8B/mmsegmentation\n",
      "  Removed mmsegmentation==1.0.0rc4 from file:///home/featurize/work/MMSegmentation%E6%95%99%E7%A8%8B/mmsegmentation from build tracker '/tmp/pip-req-tracker-cw00p3p_'\n",
      "Requirement already satisfied: matplotlib in /environment/miniconda3/lib/python3.7/site-packages (from mmsegmentation==1.0.0rc4) (3.5.0)\n",
      "Requirement already satisfied: numpy in /environment/miniconda3/lib/python3.7/site-packages (from mmsegmentation==1.0.0rc4) (1.21.4)\n",
      "Requirement already satisfied: packaging in /environment/miniconda3/lib/python3.7/site-packages (from mmsegmentation==1.0.0rc4) (21.3)\n",
      "Requirement already satisfied: prettytable in /environment/miniconda3/lib/python3.7/site-packages (from mmsegmentation==1.0.0rc4) (3.6.0)\n",
      "Requirement already satisfied: scipy in /environment/miniconda3/lib/python3.7/site-packages (from mmsegmentation==1.0.0rc4) (1.7.3)\n",
      "Requirement already satisfied: setuptools-scm>=4 in /environment/miniconda3/lib/python3.7/site-packages (from matplotlib->mmsegmentation==1.0.0rc4) (6.3.2)\n",
      "Requirement already satisfied: python-dateutil>=2.7 in /environment/miniconda3/lib/python3.7/site-packages (from matplotlib->mmsegmentation==1.0.0rc4) (2.8.2)\n",
      "Requirement already satisfied: pyparsing>=2.2.1 in /environment/miniconda3/lib/python3.7/site-packages (from matplotlib->mmsegmentation==1.0.0rc4) (3.0.6)\n",
      "Requirement already satisfied: cycler>=0.10 in /environment/miniconda3/lib/python3.7/site-packages (from matplotlib->mmsegmentation==1.0.0rc4) (0.11.0)\n",
      "Requirement already satisfied: kiwisolver>=1.0.1 in /environment/miniconda3/lib/python3.7/site-packages (from matplotlib->mmsegmentation==1.0.0rc4) (1.3.2)\n",
      "Requirement already satisfied: pillow>=6.2.0 in /environment/miniconda3/lib/python3.7/site-packages (from matplotlib->mmsegmentation==1.0.0rc4) (8.4.0)\n",
      "Requirement already satisfied: fonttools>=4.22.0 in /environment/miniconda3/lib/python3.7/site-packages (from matplotlib->mmsegmentation==1.0.0rc4) (4.28.3)\n",
      "Requirement already satisfied: six>=1.5 in /environment/miniconda3/lib/python3.7/site-packages (from python-dateutil>=2.7->matplotlib->mmsegmentation==1.0.0rc4) (1.16.0)\n",
      "Requirement already satisfied: setuptools in /environment/miniconda3/lib/python3.7/site-packages (from setuptools-scm>=4->matplotlib->mmsegmentation==1.0.0rc4) (52.0.0.post20210125)\n",
      "Requirement already satisfied: tomli>=1.0.0 in /environment/miniconda3/lib/python3.7/site-packages (from setuptools-scm>=4->matplotlib->mmsegmentation==1.0.0rc4) (1.2.2)\n",
      "Requirement already satisfied: wcwidth in /environment/miniconda3/lib/python3.7/site-packages (from prettytable->mmsegmentation==1.0.0rc4) (0.2.5)\n",
      "Requirement already satisfied: importlib-metadata in /environment/miniconda3/lib/python3.7/site-packages (from prettytable->mmsegmentation==1.0.0rc4) (4.8.2)\n",
      "Requirement already satisfied: zipp>=0.5 in /environment/miniconda3/lib/python3.7/site-packages (from importlib-metadata->prettytable->mmsegmentation==1.0.0rc4) (3.6.0)\n",
      "Requirement already satisfied: typing-extensions>=3.6.4 in /environment/miniconda3/lib/python3.7/site-packages (from importlib-metadata->prettytable->mmsegmentation==1.0.0rc4) (4.0.1)\n",
      "Created temporary directory: /tmp/pip-unpack-_7azpttn\n",
      "Installing collected packages: mmsegmentation\n",
      "  Running setup.py develop for mmsegmentation\n",
      "    Running command /environment/miniconda3/bin/python -c 'import io, os, sys, setuptools, tokenize; sys.argv[0] = '\"'\"'/home/featurize/work/MMSegmentation教程/mmsegmentation/setup.py'\"'\"'; __file__='\"'\"'/home/featurize/work/MMSegmentation教程/mmsegmentation/setup.py'\"'\"';f = getattr(tokenize, '\"'\"'open'\"'\"', open)(__file__) if os.path.exists(__file__) else io.StringIO('\"'\"'from setuptools import setup; setup()'\"'\"');code = f.read().replace('\"'\"'\\r\\n'\"'\"', '\"'\"'\\n'\"'\"');f.close();exec(compile(code, __file__, '\"'\"'exec'\"'\"'))' develop --no-deps\n",
      "    running develop\n",
      "    running egg_info\n",
      "    creating mmsegmentation.egg-info\n",
      "    writing mmsegmentation.egg-info/PKG-INFO\n",
      "    writing dependency_links to mmsegmentation.egg-info/dependency_links.txt\n",
      "    writing requirements to mmsegmentation.egg-info/requires.txt\n",
      "    writing top-level names to mmsegmentation.egg-info/top_level.txt\n",
      "    writing manifest file 'mmsegmentation.egg-info/SOURCES.txt'\n",
      "    reading manifest template 'MANIFEST.in'\n",
      "    writing manifest file 'mmsegmentation.egg-info/SOURCES.txt'\n",
      "    running build_ext\n",
      "    Creating /environment/miniconda3/lib/python3.7/site-packages/mmsegmentation.egg-link (link to .)\n",
      "    mmsegmentation 1.0.0rc4 is already the active version in easy-install.pth\n",
      "\n",
      "    Installed /home/featurize/work/MMSegmentation教程/mmsegmentation\n",
      "Successfully installed mmsegmentation-1.0.0rc4\n",
      "Removed build tracker: '/tmp/pip-req-tracker-cw00p3p_'\n"
     ]
    }
   ],
   "source": [
    "!pip install -v -e ."
   ]
  },
  {
   "cell_type": "markdown",
   "id": "a828bfe4-82e5-497a-9bda-cb9837df2cb3",
   "metadata": {},
   "source": [
    "## 下载预训练模型权重文件和视频素材"
   ]
  },
  {
   "cell_type": "code",
   "execution_count": 8,
   "id": "5aac1d0c-dbf5-478c-ab80-7e2aa0ab0f01",
   "metadata": {},
   "outputs": [],
   "source": [
    "import os\n",
    "\n",
    "# 创建 checkpoint 文件夹，用于存放预训练模型权重文件\n",
    "os.mkdir('checkpoint')\n",
    "\n",
    "# 创建 outputs 文件夹，用于存放预测结果\n",
    "os.mkdir('outputs')\n",
    "\n",
    "# 创建 data 文件夹，用于存放图片和视频素材\n",
    "os.mkdir('data')"
   ]
  },
  {
   "cell_type": "markdown",
   "id": "7dba2fbe-cb08-40a8-8ec5-7ab5ff7b70b3",
   "metadata": {},
   "source": [
    "## 下载预训练模型权重"
   ]
  },
  {
   "cell_type": "markdown",
   "id": "ec0111ac-aaf5-49d2-b052-554c1846c36e",
   "metadata": {},
   "source": [
    "Model Zoo：https://github.com/open-mmlab/mmsegmentation/blob/master/docs/en/model_zoo.md"
   ]
  },
  {
   "cell_type": "code",
   "execution_count": 9,
   "id": "72968e0c-3532-4d94-b9bc-41f78ea03f5b",
   "metadata": {},
   "outputs": [
    {
     "name": "stdout",
     "output_type": "stream",
     "text": [
      "--2023-01-30 19:50:24--  https://download.openmmlab.com/mmsegmentation/v0.5/pspnet/pspnet_r50-d8_512x1024_40k_cityscapes/pspnet_r50-d8_512x1024_40k_cityscapes_20200605_003338-2966598c.pth\n",
      "正在连接 172.16.0.13:5848... 已连接。\n",
      "已发出 Proxy 请求，正在等待回应... 200 OK\n",
      "长度： 196205945 (187M) [application/octet-stream]\n",
      "正在保存至: “checkpoint/pspnet_r50-d8_512x1024_40k_cityscapes_20200605_003338-2966598c.pth”\n",
      "\n",
      "pspnet_r50-d8_512x1 100%[===================>] 187.12M  4.80MB/s    用时 41s     \n",
      "\n",
      "2023-01-30 19:51:04 (4.58 MB/s) - 已保存 “checkpoint/pspnet_r50-d8_512x1024_40k_cityscapes_20200605_003338-2966598c.pth” [196205945/196205945])\n",
      "\n"
     ]
    }
   ],
   "source": [
    "# 从 Model Zoo 获取 PSPNet 预训练模型，下载并保存在 checkpoint 文件夹中\n",
    "!wget https://download.openmmlab.com/mmsegmentation/v0.5/pspnet/pspnet_r50-d8_512x1024_40k_cityscapes/pspnet_r50-d8_512x1024_40k_cityscapes_20200605_003338-2966598c.pth -P checkpoint\n"
   ]
  },
  {
   "cell_type": "markdown",
   "id": "e4fb1cb6-2b9b-418c-9230-6b413c748095",
   "metadata": {},
   "source": [
    "## 下载素材\n",
    "\n",
    "如果报错`Unable to establish SSL connection.`，重新运行代码块即可。"
   ]
  },
  {
   "cell_type": "code",
   "execution_count": 10,
   "id": "476bcac7-da39-416a-ba15-8d840d3ec06b",
   "metadata": {},
   "outputs": [
    {
     "name": "stdout",
     "output_type": "stream",
     "text": [
      "--2023-01-30 19:51:06--  https://zihao-openmmlab.obs.cn-east-3.myhuaweicloud.com/20220713-mmdetection/images/street_uk.jpeg\n",
      "正在连接 172.16.0.13:5848... 已连接。\n",
      "已发出 Proxy 请求，正在等待回应... 200 OK\n",
      "长度： 469065 (458K) [image/jpeg]\n",
      "正在保存至: “data/street_uk.jpeg”\n",
      "\n",
      "street_uk.jpeg      100%[===================>] 458.07K  2.16MB/s    用时 0.2s    \n",
      "\n",
      "2023-01-30 19:51:07 (2.16 MB/s) - 已保存 “data/street_uk.jpeg” [469065/469065])\n",
      "\n",
      "--2023-01-30 19:51:07--  https://zihao-download.obs.cn-east-3.myhuaweicloud.com/detectron2/traffic.mp4\n",
      "正在连接 172.16.0.13:5848... 已连接。\n",
      "已发出 Proxy 请求，正在等待回应... 200 OK\n",
      "长度： 3686362 (3.5M) [video/mp4]\n",
      "正在保存至: “data/traffic.mp4”\n",
      "\n",
      "traffic.mp4         100%[===================>]   3.51M  10.4MB/s    用时 0.3s    \n",
      "\n",
      "2023-01-30 19:51:07 (10.4 MB/s) - 已保存 “data/traffic.mp4” [3686362/3686362])\n",
      "\n",
      "--2023-01-30 19:51:08--  https://zihao-openmmlab.obs.cn-east-3.myhuaweicloud.com/20220713-mmdetection/images/street_20220330_174028.mp4\n",
      "正在连接 172.16.0.13:5848... 已连接。\n",
      "已发出 Proxy 请求，正在等待回应... 200 OK\n",
      "长度： 13575276 (13M) [video/mp4]\n",
      "正在保存至: “data/street_20220330_174028.mp4”\n",
      "\n",
      "street_20220330_174 100%[===================>]  12.95M  26.8MB/s    用时 0.5s    \n",
      "\n",
      "2023-01-30 19:51:08 (26.8 MB/s) - 已保存 “data/street_20220330_174028.mp4” [13575276/13575276])\n",
      "\n"
     ]
    }
   ],
   "source": [
    "# 伦敦街景图片\n",
    "!wget https://zihao-openmmlab.obs.cn-east-3.myhuaweicloud.com/20220713-mmdetection/images/street_uk.jpeg -P data\n",
    "\n",
    "# 上海驾车街景视频，视频来源：https://www.youtube.com/watch?v=ll8TgCZ0plk\n",
    "!wget https://zihao-download.obs.cn-east-3.myhuaweicloud.com/detectron2/traffic.mp4 -P data\n",
    "\n",
    "# 街拍视频，2022年3月30日\n",
    "!wget https://zihao-openmmlab.obs.cn-east-3.myhuaweicloud.com/20220713-mmdetection/images/street_20220330_174028.mp4 -P data\n"
   ]
  },
  {
   "cell_type": "markdown",
   "id": "fa97e1da-f245-4d32-892d-dec07a6b2c16",
   "metadata": {},
   "source": [
    "## 检查安装成功"
   ]
  },
  {
   "cell_type": "code",
   "execution_count": 8,
   "id": "424fca02-13cc-493f-8833-ec63900f02d3",
   "metadata": {},
   "outputs": [
    {
     "name": "stdout",
     "output_type": "stream",
     "text": [
      "Pytorch 版本 1.10.1+cu113\n",
      "CUDA 是否可用 True\n"
     ]
    }
   ],
   "source": [
    "# 检查 Pytorch\n",
    "import torch, torchvision\n",
    "print('Pytorch 版本', torch.__version__)\n",
    "print('CUDA 是否可用',torch.cuda.is_available())"
   ]
  },
  {
   "cell_type": "code",
   "execution_count": 9,
   "id": "96a6e738-d9d3-4e9f-a053-15bf2f29d43b",
   "metadata": {},
   "outputs": [
    {
     "name": "stdout",
     "output_type": "stream",
     "text": [
      "MMCV版本 2.0.0rc3\n",
      "CUDA版本 11.3\n",
      "编译器版本 GCC 9.3\n"
     ]
    }
   ],
   "source": [
    "# 检查 mmcv\n",
    "import mmcv\n",
    "from mmcv.ops import get_compiling_cuda_version, get_compiler_version\n",
    "print('MMCV版本', mmcv.__version__)\n",
    "print('CUDA版本', get_compiling_cuda_version())\n",
    "print('编译器版本', get_compiler_version())"
   ]
  },
  {
   "cell_type": "code",
   "execution_count": 10,
   "id": "dae8b28c-fa1f-4911-ba27-50ed745e9679",
   "metadata": {},
   "outputs": [
    {
     "name": "stdout",
     "output_type": "stream",
     "text": [
      "mmsegmentation版本 1.0.0rc4\n"
     ]
    }
   ],
   "source": [
    "# 检查 mmsegmentation\n",
    "import mmseg\n",
    "from mmseg.utils import register_all_modules\n",
    "from mmseg.apis import inference_model, init_model\n",
    "print('mmsegmentation版本', mmseg.__version__)"
   ]
  },
  {
   "cell_type": "code",
   "execution_count": null,
   "id": "67dc26df-5eb0-4945-be42-fe58be44daa0",
   "metadata": {},
   "outputs": [],
   "source": []
  }
 ],
 "metadata": {
  "kernelspec": {
   "display_name": "Python 3 (ipykernel)",
   "language": "python",
   "name": "python3"
  },
  "language_info": {
   "codemirror_mode": {
    "name": "ipython",
    "version": 3
   },
   "file_extension": ".py",
   "mimetype": "text/x-python",
   "name": "python",
   "nbconvert_exporter": "python",
   "pygments_lexer": "ipython3",
   "version": "3.7.10"
  }
 },
 "nbformat": 4,
 "nbformat_minor": 5
}
