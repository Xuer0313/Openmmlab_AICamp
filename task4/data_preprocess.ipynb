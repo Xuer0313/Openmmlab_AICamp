{
 "cells": [
  {
   "cell_type": "code",
   "execution_count": 1,
   "id": "1b9a25ff",
   "metadata": {},
   "outputs": [
    {
     "data": {
      "text/plain": [
       "'/home/jin/xcy/task4'"
      ]
     },
     "execution_count": 1,
     "metadata": {},
     "output_type": "execute_result"
    }
   ],
   "source": [
    "import os\n",
    "os.getcwd()"
   ]
  },
  {
   "cell_type": "code",
   "execution_count": 4,
   "id": "d1b2764f",
   "metadata": {
    "scrolled": true
   },
   "outputs": [
    {
     "name": "stdout",
     "output_type": "stream",
     "text": [
      "mkdir: cannot create directory ‘data’: File exists\r\n"
     ]
    }
   ],
   "source": [
    "!mkdir data"
   ]
  },
  {
   "cell_type": "code",
   "execution_count": 6,
   "id": "4bab20e9",
   "metadata": {
    "scrolled": true
   },
   "outputs": [
    {
     "data": {
      "text/plain": [
       "'/home/jin/xcy/task4/data'"
      ]
     },
     "execution_count": 6,
     "metadata": {},
     "output_type": "execute_result"
    }
   ],
   "source": [
    "os.getcwd()"
   ]
  },
  {
   "cell_type": "code",
   "execution_count": 7,
   "id": "331c5647",
   "metadata": {},
   "outputs": [
    {
     "name": "stdout",
     "output_type": "stream",
     "text": [
      "--2023-06-15 12:30:54--  https://zihao-openmmlab.obs.cn-east-3.myhuaweicloud.com/20230130-mmseg/dataset/watermelon/Watermelon87_Semantic_Seg_Mask.zip\n",
      "Resolving zihao-openmmlab.obs.cn-east-3.myhuaweicloud.com (zihao-openmmlab.obs.cn-east-3.myhuaweicloud.com)... 121.36.235.132\n",
      "Connecting to zihao-openmmlab.obs.cn-east-3.myhuaweicloud.com (zihao-openmmlab.obs.cn-east-3.myhuaweicloud.com)|121.36.235.132|:443... connected.\n",
      "HTTP request sent, awaiting response... 200 OK\n",
      "Length: 13230222 (13M) [application/zip]\n",
      "Saving to: ‘Watermelon87_Semantic_Seg_Mask.zip’\n",
      "\n",
      "Watermelon87_Semant 100%[===================>]  12.62M  9.84MB/s    in 1.3s    \n",
      "\n",
      "2023-06-15 12:30:55 (9.84 MB/s) - ‘Watermelon87_Semantic_Seg_Mask.zip’ saved [13230222/13230222]\n",
      "\n"
     ]
    }
   ],
   "source": [
    "!wget https://zihao-openmmlab.obs.cn-east-3.myhuaweicloud.com/20230130-mmseg/dataset/watermelon/Watermelon87_Semantic_Seg_Mask.zip"
   ]
  },
  {
   "cell_type": "code",
   "execution_count": 9,
   "id": "573e31bc",
   "metadata": {},
   "outputs": [
    {
     "name": "stdout",
     "output_type": "stream",
     "text": [
      "Archive:  Watermelon87_Semantic_Seg_Mask.zip\n",
      "   creating: Watermelon87_Semantic_Seg_Mask/\n",
      "   creating: Watermelon87_Semantic_Seg_Mask/img_dir/\n",
      "   creating: Watermelon87_Semantic_Seg_Mask/img_dir/train/\n",
      "  inflating: Watermelon87_Semantic_Seg_Mask/img_dir/train/IMG_6865-1024x683.jpg  \n",
      "  inflating: Watermelon87_Semantic_Seg_Mask/img_dir/train/unnamed.jpg  \n",
      "  inflating: Watermelon87_Semantic_Seg_Mask/img_dir/train/maxresdefault.jpg  \n",
      "  inflating: Watermelon87_Semantic_Seg_Mask/img_dir/train/R (2).jpeg  \n",
      "  inflating: Watermelon87_Semantic_Seg_Mask/img_dir/train/R (1).jpeg  \n",
      "  inflating: Watermelon87_Semantic_Seg_Mask/img_dir/train/20170613134012_430390.jpg  \n",
      "  inflating: Watermelon87_Semantic_Seg_Mask/img_dir/train/OIP (5).jpeg  \n",
      "  inflating: Watermelon87_Semantic_Seg_Mask/img_dir/train/04_35-2.jpg  \n",
      "  inflating: Watermelon87_Semantic_Seg_Mask/img_dir/train/pureform-citrulline.jpg  \n",
      "  inflating: Watermelon87_Semantic_Seg_Mask/img_dir/train/24a3a0f8a11ae29f8ccca35c822ac0e2991b4773.png  \n",
      "  inflating: Watermelon87_Semantic_Seg_Mask/img_dir/train/test.jpg  \n",
      "  inflating: Watermelon87_Semantic_Seg_Mask/img_dir/train/Watermelon.jpg  \n",
      "  inflating: Watermelon87_Semantic_Seg_Mask/img_dir/train/OIP (15).jpeg  \n",
      "  inflating: Watermelon87_Semantic_Seg_Mask/img_dir/train/R (3).jpeg  \n",
      "  inflating: Watermelon87_Semantic_Seg_Mask/img_dir/train/OIP (3).jpeg  \n",
      "  inflating: Watermelon87_Semantic_Seg_Mask/img_dir/train/vDMIiCPqS1EC.jpg  \n",
      "  inflating: Watermelon87_Semantic_Seg_Mask/img_dir/train/R (9).jpeg  \n",
      "  inflating: Watermelon87_Semantic_Seg_Mask/img_dir/train/s0569_001_c01.jpg  \n",
      "  inflating: Watermelon87_Semantic_Seg_Mask/img_dir/train/OIP (10).jpeg  \n",
      "  inflating: Watermelon87_Semantic_Seg_Mask/img_dir/train/OIP (1).jpeg  \n",
      "  inflating: Watermelon87_Semantic_Seg_Mask/img_dir/train/2401-food-tip-image-MAIN.jpg  \n",
      "  inflating: Watermelon87_Semantic_Seg_Mask/img_dir/train/OIP (2).jpeg  \n",
      "  inflating: Watermelon87_Semantic_Seg_Mask/img_dir/train/69735779_m-5b756b48997fa.jpg  \n",
      "  inflating: Watermelon87_Semantic_Seg_Mask/img_dir/train/360_F_85084369_iab0VH1ohx2lHtM3OfCncfE9I7VPpl0N.jpg  \n",
      "  inflating: Watermelon87_Semantic_Seg_Mask/img_dir/train/045_sozai_l.jpg  \n",
      "  inflating: Watermelon87_Semantic_Seg_Mask/img_dir/train/skmrk03.jpg  \n",
      "  inflating: Watermelon87_Semantic_Seg_Mask/img_dir/train/8fe7f149146b6866.jpg  \n",
      "  inflating: Watermelon87_Semantic_Seg_Mask/img_dir/train/uportcocoloni_16696_0.jpg  \n",
      "  inflating: Watermelon87_Semantic_Seg_Mask/img_dir/train/OIP (8).jpeg  \n",
      "  inflating: Watermelon87_Semantic_Seg_Mask/img_dir/train/alkompis_QGYeyHjwPY-scaled.jpg  \n",
      "  inflating: Watermelon87_Semantic_Seg_Mask/img_dir/train/OIP (7).jpeg  \n",
      "  inflating: Watermelon87_Semantic_Seg_Mask/img_dir/train/ac330c7605098e36de5507d857d0b55c.jpg  \n",
      "  inflating: Watermelon87_Semantic_Seg_Mask/img_dir/train/c38e1f595c46d502c75bda7ec9bf6078.jpg  \n",
      "  inflating: Watermelon87_Semantic_Seg_Mask/img_dir/train/68200_main-1.jpg  \n",
      "  inflating: Watermelon87_Semantic_Seg_Mask/img_dir/train/OIP (12).jpeg  \n",
      "  inflating: Watermelon87_Semantic_Seg_Mask/img_dir/train/ed2de27518d0526380c9bcc9f9fb78333565cce8.jpg  \n",
      "  inflating: Watermelon87_Semantic_Seg_Mask/img_dir/train/R (8).jpeg  \n",
      "  inflating: Watermelon87_Semantic_Seg_Mask/img_dir/train/11-loai-trai-cay-dinh-duong-nen-an-hang-ngay-dua-hau.jpg  \n",
      "  inflating: Watermelon87_Semantic_Seg_Mask/img_dir/train/piece-watermelon-isolated-white-background-top-view-95945299.jpg  \n",
      "  inflating: Watermelon87_Semantic_Seg_Mask/img_dir/train/suika011.jpg  \n",
      "  inflating: Watermelon87_Semantic_Seg_Mask/img_dir/train/R (5).jpeg  \n",
      "  inflating: Watermelon87_Semantic_Seg_Mask/img_dir/train/R (10).jpeg  \n",
      "  inflating: Watermelon87_Semantic_Seg_Mask/img_dir/train/OIP.jpeg  \n",
      "  inflating: Watermelon87_Semantic_Seg_Mask/img_dir/train/istockphoto-849574338-170667a.jpg  \n",
      "  inflating: Watermelon87_Semantic_Seg_Mask/img_dir/train/R (14).jpeg  \n",
      "  inflating: Watermelon87_Semantic_Seg_Mask/img_dir/train/31cc9b997d1e3a8ed5b6a3cbf5efd86d.jpg  \n",
      "  inflating: Watermelon87_Semantic_Seg_Mask/img_dir/train/da23-e4580.jpg  \n",
      "  inflating: Watermelon87_Semantic_Seg_Mask/img_dir/train/468D11D9CB53158C55CF126CFE3D49C0A070758A_size321_w400_h400.png  \n",
      "  inflating: Watermelon87_Semantic_Seg_Mask/img_dir/train/img_de56fb30d23e2c761302ba61198a4be4233656.jpg  \n",
      "  inflating: Watermelon87_Semantic_Seg_Mask/img_dir/train/R (15).jpeg  \n",
      "  inflating: Watermelon87_Semantic_Seg_Mask/img_dir/train/1471253631_2.jpg  \n",
      "  inflating: Watermelon87_Semantic_Seg_Mask/img_dir/train/Manfaat-buah-semangka.jpg  \n",
      "  inflating: Watermelon87_Semantic_Seg_Mask/img_dir/train/adpDSC_5275-750x499.jpg  \n",
      "  inflating: Watermelon87_Semantic_Seg_Mask/img_dir/train/shutterstock_457769608.jpg  \n",
      "  inflating: Watermelon87_Semantic_Seg_Mask/img_dir/train/o0833068314488481500.jpg  \n",
      "  inflating: Watermelon87_Semantic_Seg_Mask/img_dir/train/thum-20180809094803.jpg  \n",
      "  inflating: Watermelon87_Semantic_Seg_Mask/img_dir/train/7c75f4c6f3bdd9d61d8782ddff1ff6ac.jpg  \n",
      "  inflating: Watermelon87_Semantic_Seg_Mask/img_dir/train/img4f375505zik9zj.jpeg  \n",
      "  inflating: Watermelon87_Semantic_Seg_Mask/img_dir/train/202007220195_top_img_A.jpg  \n",
      "  inflating: Watermelon87_Semantic_Seg_Mask/img_dir/train/R (13).jpeg  \n",
      "  inflating: Watermelon87_Semantic_Seg_Mask/img_dir/train/1510702494080_melon_NWS_block-low.jpg  \n",
      "  inflating: Watermelon87_Semantic_Seg_Mask/img_dir/train/pfauwbexemva1nvwobqs.jpg  \n",
      "  inflating: Watermelon87_Semantic_Seg_Mask/img_dir/train/img56610866.jpg  \n",
      "  inflating: Watermelon87_Semantic_Seg_Mask/img_dir/train/0778_02.jpg  \n",
      "  inflating: Watermelon87_Semantic_Seg_Mask/img_dir/train/21746.1.jpg  \n",
      "  inflating: Watermelon87_Semantic_Seg_Mask/img_dir/train/8-thuc-pham-chong-cam-cum-1459496975020.jpg  \n",
      "  inflating: Watermelon87_Semantic_Seg_Mask/img_dir/train/huyet-ap-cao-thap-nen-an-gi-kieng-gi-tot-on-dinh-2.jpg  \n",
      "  inflating: Watermelon87_Semantic_Seg_Mask/img_dir/train/foods083_img01.jpg  \n",
      "  inflating: Watermelon87_Semantic_Seg_Mask/img_dir/train/OIP (14).jpeg  \n",
      "  inflating: Watermelon87_Semantic_Seg_Mask/img_dir/train/watermelon-slices.jpg  \n",
      "   creating: Watermelon87_Semantic_Seg_Mask/img_dir/val/\n",
      "  inflating: Watermelon87_Semantic_Seg_Mask/img_dir/val/watermelon-medium.jpg  \n",
      "  inflating: Watermelon87_Semantic_Seg_Mask/img_dir/val/la_wm_img01.jpg  \n",
      "  inflating: Watermelon87_Semantic_Seg_Mask/img_dir/val/OIP (11).jpeg  \n",
      "  inflating: Watermelon87_Semantic_Seg_Mask/img_dir/val/01bd15599c606aa801201794e1fa30.jpg@1280w_1l_2o_100sh.jpg  \n",
      "  inflating: Watermelon87_Semantic_Seg_Mask/img_dir/val/17897490_93d9666602_z.jpg  \n",
      "  inflating: Watermelon87_Semantic_Seg_Mask/img_dir/val/R.jpeg  \n",
      "  inflating: Watermelon87_Semantic_Seg_Mask/img_dir/val/5b3c8018N634d43bd.jpg  \n",
      "  inflating: Watermelon87_Semantic_Seg_Mask/img_dir/val/dua-hau-1.jpg  \n",
      "  inflating: Watermelon87_Semantic_Seg_Mask/img_dir/val/depositphotos_204189678-stock-photo-slice-watermelon-white-background.jpg  \n",
      "  inflating: Watermelon87_Semantic_Seg_Mask/img_dir/val/OIP (13).jpeg  \n",
      "  inflating: Watermelon87_Semantic_Seg_Mask/img_dir/val/e52m_8686.jpg  \n",
      "  inflating: Watermelon87_Semantic_Seg_Mask/img_dir/val/OIP (9).jpeg  \n",
      "  inflating: Watermelon87_Semantic_Seg_Mask/img_dir/val/OIP (4).jpeg  \n",
      "  inflating: Watermelon87_Semantic_Seg_Mask/img_dir/val/R (4).jpeg  \n",
      "  inflating: Watermelon87_Semantic_Seg_Mask/img_dir/val/L007-05_5.jpg  \n",
      "  inflating: Watermelon87_Semantic_Seg_Mask/img_dir/val/dun-soi-hat-dua-hau-lay-nuoc-uong-ban-se-bat-ngo-vi-ket-qua-nuochatduah--u1-1493799084-width500height313.jpg  \n",
      "  inflating: Watermelon87_Semantic_Seg_Mask/img_dir/val/denn-ke-11-7.jpg  \n",
      "   creating: Watermelon87_Semantic_Seg_Mask/ann_dir/\n",
      "   creating: Watermelon87_Semantic_Seg_Mask/ann_dir/train/\n",
      "  inflating: Watermelon87_Semantic_Seg_Mask/ann_dir/train/IMG_6865-1024x683.png  \n",
      "  inflating: Watermelon87_Semantic_Seg_Mask/ann_dir/train/unnamed.png  \n",
      "  inflating: Watermelon87_Semantic_Seg_Mask/ann_dir/train/maxresdefault.png  \n",
      "  inflating: Watermelon87_Semantic_Seg_Mask/ann_dir/train/R (2).png  \n",
      "  inflating: Watermelon87_Semantic_Seg_Mask/ann_dir/train/R (1).png  \n",
      "  inflating: Watermelon87_Semantic_Seg_Mask/ann_dir/train/20170613134012_430390.png  \n",
      "  inflating: Watermelon87_Semantic_Seg_Mask/ann_dir/train/OIP (5).png  \n",
      "  inflating: Watermelon87_Semantic_Seg_Mask/ann_dir/train/04_35-2.png  \n",
      "  inflating: Watermelon87_Semantic_Seg_Mask/ann_dir/train/pureform-citrulline.png  \n",
      "  inflating: Watermelon87_Semantic_Seg_Mask/ann_dir/train/24a3a0f8a11ae29f8ccca35c822ac0e2991b4773.png  \n",
      "  inflating: Watermelon87_Semantic_Seg_Mask/ann_dir/train/test.png  \n",
      "  inflating: Watermelon87_Semantic_Seg_Mask/ann_dir/train/Watermelon.png  \n",
      "  inflating: Watermelon87_Semantic_Seg_Mask/ann_dir/train/OIP (15).png  \n",
      "  inflating: Watermelon87_Semantic_Seg_Mask/ann_dir/train/R (3).png  \n",
      "  inflating: Watermelon87_Semantic_Seg_Mask/ann_dir/train/OIP (3).png  \n",
      "  inflating: Watermelon87_Semantic_Seg_Mask/ann_dir/train/vDMIiCPqS1EC.png  \n",
      "  inflating: Watermelon87_Semantic_Seg_Mask/ann_dir/train/R (9).png  \n",
      "  inflating: Watermelon87_Semantic_Seg_Mask/ann_dir/train/s0569_001_c01.png  \n",
      "  inflating: Watermelon87_Semantic_Seg_Mask/ann_dir/train/OIP (10).png  \n",
      "  inflating: Watermelon87_Semantic_Seg_Mask/ann_dir/train/OIP (1).png  \n",
      "  inflating: Watermelon87_Semantic_Seg_Mask/ann_dir/train/2401-food-tip-image-MAIN.png  \n",
      "  inflating: Watermelon87_Semantic_Seg_Mask/ann_dir/train/OIP (2).png  \n",
      "  inflating: Watermelon87_Semantic_Seg_Mask/ann_dir/train/69735779_m-5b756b48997fa.png  \n",
      "  inflating: Watermelon87_Semantic_Seg_Mask/ann_dir/train/360_F_85084369_iab0VH1ohx2lHtM3OfCncfE9I7VPpl0N.png  \n",
      "  inflating: Watermelon87_Semantic_Seg_Mask/ann_dir/train/045_sozai_l.png  \n",
      "  inflating: Watermelon87_Semantic_Seg_Mask/ann_dir/train/skmrk03.png  \n",
      "  inflating: Watermelon87_Semantic_Seg_Mask/ann_dir/train/8fe7f149146b6866.png  \n",
      "  inflating: Watermelon87_Semantic_Seg_Mask/ann_dir/train/uportcocoloni_16696_0.png  \n",
      "  inflating: Watermelon87_Semantic_Seg_Mask/ann_dir/train/OIP (8).png  \n",
      "  inflating: Watermelon87_Semantic_Seg_Mask/ann_dir/train/alkompis_QGYeyHjwPY-scaled.png  \n",
      "  inflating: Watermelon87_Semantic_Seg_Mask/ann_dir/train/OIP (7).png  \n",
      "  inflating: Watermelon87_Semantic_Seg_Mask/ann_dir/train/ac330c7605098e36de5507d857d0b55c.png  \n",
      "  inflating: Watermelon87_Semantic_Seg_Mask/ann_dir/train/c38e1f595c46d502c75bda7ec9bf6078.png  \n",
      "  inflating: Watermelon87_Semantic_Seg_Mask/ann_dir/train/68200_main-1.png  \n",
      "  inflating: Watermelon87_Semantic_Seg_Mask/ann_dir/train/OIP (12).png  \n",
      "  inflating: Watermelon87_Semantic_Seg_Mask/ann_dir/train/ed2de27518d0526380c9bcc9f9fb78333565cce8.png  \n",
      "  inflating: Watermelon87_Semantic_Seg_Mask/ann_dir/train/R (8).png  \n",
      "  inflating: Watermelon87_Semantic_Seg_Mask/ann_dir/train/11-loai-trai-cay-dinh-duong-nen-an-hang-ngay-dua-hau.png  \n",
      "  inflating: Watermelon87_Semantic_Seg_Mask/ann_dir/train/piece-watermelon-isolated-white-background-top-view-95945299.png  \n",
      "  inflating: Watermelon87_Semantic_Seg_Mask/ann_dir/train/suika011.png  \n",
      "  inflating: Watermelon87_Semantic_Seg_Mask/ann_dir/train/R (5).png  \n",
      "  inflating: Watermelon87_Semantic_Seg_Mask/ann_dir/train/R (10).png  \n",
      "  inflating: Watermelon87_Semantic_Seg_Mask/ann_dir/train/OIP.png  \n",
      "  inflating: Watermelon87_Semantic_Seg_Mask/ann_dir/train/istockphoto-849574338-170667a.png  \n",
      "  inflating: Watermelon87_Semantic_Seg_Mask/ann_dir/train/R (14).png  \n",
      "  inflating: Watermelon87_Semantic_Seg_Mask/ann_dir/train/31cc9b997d1e3a8ed5b6a3cbf5efd86d.png  \n",
      "  inflating: Watermelon87_Semantic_Seg_Mask/ann_dir/train/da23-e4580.png  \n",
      "  inflating: Watermelon87_Semantic_Seg_Mask/ann_dir/train/468D11D9CB53158C55CF126CFE3D49C0A070758A_size321_w400_h400.png  \n",
      "  inflating: Watermelon87_Semantic_Seg_Mask/ann_dir/train/img_de56fb30d23e2c761302ba61198a4be4233656.png  \n",
      "  inflating: Watermelon87_Semantic_Seg_Mask/ann_dir/train/R (15).png  \n",
      "  inflating: Watermelon87_Semantic_Seg_Mask/ann_dir/train/1471253631_2.png  \n",
      "  inflating: Watermelon87_Semantic_Seg_Mask/ann_dir/train/Manfaat-buah-semangka.png  \n",
      "  inflating: Watermelon87_Semantic_Seg_Mask/ann_dir/train/adpDSC_5275-750x499.png  \n",
      "  inflating: Watermelon87_Semantic_Seg_Mask/ann_dir/train/shutterstock_457769608.png  \n",
      "  inflating: Watermelon87_Semantic_Seg_Mask/ann_dir/train/o0833068314488481500.png  \n",
      "  inflating: Watermelon87_Semantic_Seg_Mask/ann_dir/train/thum-20180809094803.png  \n",
      "  inflating: Watermelon87_Semantic_Seg_Mask/ann_dir/train/7c75f4c6f3bdd9d61d8782ddff1ff6ac.png  \n",
      "  inflating: Watermelon87_Semantic_Seg_Mask/ann_dir/train/img4f375505zik9zj.png  \n",
      "  inflating: Watermelon87_Semantic_Seg_Mask/ann_dir/train/202007220195_top_img_A.png  \n",
      "  inflating: Watermelon87_Semantic_Seg_Mask/ann_dir/train/R (13).png  \n",
      "  inflating: Watermelon87_Semantic_Seg_Mask/ann_dir/train/1510702494080_melon_NWS_block-low.png  \n",
      "  inflating: Watermelon87_Semantic_Seg_Mask/ann_dir/train/pfauwbexemva1nvwobqs.png  \n",
      "  inflating: Watermelon87_Semantic_Seg_Mask/ann_dir/train/img56610866.png  \n",
      "  inflating: Watermelon87_Semantic_Seg_Mask/ann_dir/train/0778_02.png  \n",
      "  inflating: Watermelon87_Semantic_Seg_Mask/ann_dir/train/21746.png  \n",
      "  inflating: Watermelon87_Semantic_Seg_Mask/ann_dir/train/8-thuc-pham-chong-cam-cum-1459496975020.png  \n",
      "  inflating: Watermelon87_Semantic_Seg_Mask/ann_dir/train/huyet-ap-cao-thap-nen-an-gi-kieng-gi-tot-on-dinh-2.png  \n",
      "  inflating: Watermelon87_Semantic_Seg_Mask/ann_dir/train/foods083_img01.png  \n",
      "  inflating: Watermelon87_Semantic_Seg_Mask/ann_dir/train/OIP (14).png  \n",
      "  inflating: Watermelon87_Semantic_Seg_Mask/ann_dir/train/watermelon-slices.png  \n",
      "   creating: Watermelon87_Semantic_Seg_Mask/ann_dir/val/\n",
      "  inflating: Watermelon87_Semantic_Seg_Mask/ann_dir/val/watermelon-medium.png  \n",
      "  inflating: Watermelon87_Semantic_Seg_Mask/ann_dir/val/la_wm_img01.png  \n",
      "  inflating: Watermelon87_Semantic_Seg_Mask/ann_dir/val/OIP (11).png  \n",
      "  inflating: Watermelon87_Semantic_Seg_Mask/ann_dir/val/01bd15599c606aa801201794e1fa30.png  \n",
      "  inflating: Watermelon87_Semantic_Seg_Mask/ann_dir/val/17897490_93d9666602_z.png  \n",
      "  inflating: Watermelon87_Semantic_Seg_Mask/ann_dir/val/R.png  \n",
      "  inflating: Watermelon87_Semantic_Seg_Mask/ann_dir/val/5b3c8018N634d43bd.png  \n",
      "  inflating: Watermelon87_Semantic_Seg_Mask/ann_dir/val/dua-hau-1.png  \n",
      "  inflating: Watermelon87_Semantic_Seg_Mask/ann_dir/val/depositphotos_204189678-stock-photo-slice-watermelon-white-background.png  \n",
      "  inflating: Watermelon87_Semantic_Seg_Mask/ann_dir/val/OIP (13).png  \n",
      "  inflating: Watermelon87_Semantic_Seg_Mask/ann_dir/val/e52m_8686.png  \n",
      "  inflating: Watermelon87_Semantic_Seg_Mask/ann_dir/val/OIP (9).png  \n",
      "  inflating: Watermelon87_Semantic_Seg_Mask/ann_dir/val/OIP (4).png  \n",
      "  inflating: Watermelon87_Semantic_Seg_Mask/ann_dir/val/R (4).png  \n",
      "  inflating: Watermelon87_Semantic_Seg_Mask/ann_dir/val/L007-05_5.png  \n",
      "  inflating: Watermelon87_Semantic_Seg_Mask/ann_dir/val/dun-soi-hat-dua-hau-lay-nuoc-uong-ban-se-bat-ngo-vi-ket-qua-nuochatduah--u1-1493799084-width500height313.png  \n",
      "  inflating: Watermelon87_Semantic_Seg_Mask/ann_dir/val/denn-ke-11-7.png  \n"
     ]
    }
   ],
   "source": [
    "!unzip Watermelon87_Semantic_Seg_Mask.zip"
   ]
  },
  {
   "cell_type": "code",
   "execution_count": 10,
   "id": "b51da845",
   "metadata": {},
   "outputs": [],
   "source": [
    "!rm -rf Watermelon87_Semantic_Seg_Mask.zip"
   ]
  },
  {
   "cell_type": "code",
   "execution_count": null,
   "id": "f4de21e2",
   "metadata": {},
   "outputs": [],
   "source": []
  }
 ],
 "metadata": {
  "kernelspec": {
   "display_name": "Python 3 (ipykernel)",
   "language": "python",
   "name": "python3"
  },
  "language_info": {
   "codemirror_mode": {
    "name": "ipython",
    "version": 3
   },
   "file_extension": ".py",
   "mimetype": "text/x-python",
   "name": "python",
   "nbconvert_exporter": "python",
   "pygments_lexer": "ipython3",
   "version": "3.7.16"
  }
 },
 "nbformat": 4,
 "nbformat_minor": 5
}
