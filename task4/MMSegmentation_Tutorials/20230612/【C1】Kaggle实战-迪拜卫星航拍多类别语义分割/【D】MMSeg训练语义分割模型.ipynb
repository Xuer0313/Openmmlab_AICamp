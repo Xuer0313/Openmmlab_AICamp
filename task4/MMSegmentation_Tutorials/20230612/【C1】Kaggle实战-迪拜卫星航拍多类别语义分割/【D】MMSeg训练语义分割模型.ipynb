{
 "cells": [
  {
   "cell_type": "markdown",
   "metadata": {},
   "source": [
    "# MMSegmentation训练语义分割模型\n",
    "\n",
    "同济子豪兄 2023-2-13 6-12"
   ]
  },
  {
   "cell_type": "markdown",
   "metadata": {
    "tags": []
   },
   "source": [
    "## 进入MMSegmentation主目录"
   ]
  },
  {
   "cell_type": "code",
   "execution_count": 1,
   "metadata": {},
   "outputs": [],
   "source": [
    "import os\n",
    "os.chdir('../mmsegmentation')"
   ]
  },
  {
   "cell_type": "code",
   "execution_count": 2,
   "metadata": {},
   "outputs": [
    {
     "data": {
      "text/plain": [
       "'/home/featurize/work/两天搞定语义分割毕业设计/mmsegmentation'"
      ]
     },
     "execution_count": 2,
     "metadata": {},
     "output_type": "execute_result"
    }
   ],
   "source": [
    "os.getcwd()"
   ]
  },
  {
   "cell_type": "markdown",
   "metadata": {},
   "source": [
    "## 导入工具包"
   ]
  },
  {
   "cell_type": "code",
   "execution_count": 3,
   "metadata": {
    "colab": {
     "base_uri": "https://localhost:8080/"
    },
    "id": "mAE_h7XhPT7d",
    "outputId": "83bf0f8e-fc69-40b1-f9fe-0025724a217c"
   },
   "outputs": [],
   "source": [
    "import numpy as np\n",
    "\n",
    "import os.path as osp\n",
    "from tqdm import tqdm\n",
    "\n",
    "import mmcv\n",
    "import mmengine"
   ]
  },
  {
   "cell_type": "markdown",
   "metadata": {},
   "source": [
    "## 载入config配置文件"
   ]
  },
  {
   "cell_type": "code",
   "execution_count": 4,
   "metadata": {
    "id": "Wwnj9tRzqX_A"
   },
   "outputs": [],
   "source": [
    "from mmengine import Config\n",
    "cfg = Config.fromfile('pspnet-DubaiDataset_20230612.py')"
   ]
  },
  {
   "cell_type": "markdown",
   "metadata": {
    "id": "QWuH14LYF2gQ"
   },
   "source": [
    "## 准备训练"
   ]
  },
  {
   "cell_type": "code",
   "execution_count": 1,
   "metadata": {
    "colab": {
     "base_uri": "https://localhost:8080/"
    },
    "id": "jYKoSfdMF12B",
    "outputId": "422219ca-d7a5-4890-f09f-88c959942e64",
    "tags": []
   },
   "outputs": [],
   "source": [
    "from mmengine.runner import Runner\n",
    "from mmseg.utils import register_all_modules\n",
    "\n",
    "# register all modules in mmseg into the registries\n",
    "# do not init the default scope here because it will be init in the runner\n",
    "register_all_modules(init_default_scope=False)\n",
    "runner = Runner.from_cfg(cfg)"
   ]
  },
  {
   "cell_type": "markdown",
   "metadata": {},
   "source": [
    "## 开始训练\n",
    "\n",
    "如果遇到报错`CUDA out of memeory`，可尝试以下步骤：\n",
    "\n",
    "1. 调小 batch size\n",
    "\n",
    "2. 左上角`内核-关闭所有内核`\n",
    "\n",
    "3. 重启实例，或者使用显存更高的实例即可。"
   ]
  },
  {
   "cell_type": "code",
   "execution_count": null,
   "metadata": {},
   "outputs": [
    {
     "name": "stdout",
     "output_type": "stream",
     "text": [
      "06/12 10:31:13 - mmengine - \u001b[5m\u001b[4m\u001b[33mWARNING\u001b[0m - The prefix is not set in metric class IoUMetric.\n",
      "06/12 10:31:14 - mmengine - \u001b[4m\u001b[37mINFO\u001b[0m - load model from: open-mmlab://resnet50_v1c\n",
      "06/12 10:31:14 - mmengine - \u001b[4m\u001b[37mINFO\u001b[0m - Loads checkpoint by openmmlab backend from path: open-mmlab://resnet50_v1c\n",
      "06/12 10:31:14 - mmengine - \u001b[5m\u001b[4m\u001b[33mWARNING\u001b[0m - The model and loaded state dict do not match exactly\n",
      "\n",
      "unexpected key in source state_dict: fc.weight, fc.bias\n",
      "\n",
      "06/12 10:31:14 - mmengine - \u001b[5m\u001b[4m\u001b[33mWARNING\u001b[0m - \"FileClient\" will be deprecated in future. Please use io functions in https://mmengine.readthedocs.io/en/latest/api/fileio.html#file-io\n",
      "06/12 10:31:14 - mmengine - \u001b[5m\u001b[4m\u001b[33mWARNING\u001b[0m - \"HardDiskBackend\" is the alias of \"LocalBackend\" and the former will be deprecated in future.\n",
      "06/12 10:31:14 - mmengine - \u001b[4m\u001b[37mINFO\u001b[0m - Checkpoints will be saved to /home/featurize/work/两天搞定语义分割毕业设计/mmsegmentation/work_dirs/DubaiDataset.\n",
      "06/12 10:31:19 - mmengine - \u001b[4m\u001b[37mINFO\u001b[0m - Exp name: pspnet-DubaiDataset_20230612_20230612_103047\n",
      "06/12 10:31:19 - mmengine - \u001b[4m\u001b[37mINFO\u001b[0m - Iter(train) [   8/3000]  lr: 9.9984e-03  eta: 0:29:44  time: 0.5966  data_time: 0.0104  memory: 5948  loss: 0.1518  decode.loss_ce: 0.1071  decode.acc_seg: 43.9117  aux.loss_ce: 0.0447  aux.acc_seg: 39.0198\n",
      "06/12 10:31:49 - mmengine - \u001b[4m\u001b[37mINFO\u001b[0m - Iter(train) [ 100/3000]  lr: 9.9779e-03  eta: 0:17:04  time: 0.3307  data_time: 0.0101  memory: 3774  loss: 0.1075  decode.loss_ce: 0.0747  decode.acc_seg: 71.1243  aux.loss_ce: 0.0328  aux.acc_seg: 69.1376\n",
      "06/12 10:32:23 - mmengine - \u001b[4m\u001b[37mINFO\u001b[0m - Iter(train) [ 200/3000]  lr: 9.9557e-03  eta: 0:16:01  time: 0.3353  data_time: 0.0112  memory: 3774  loss: 0.0960  decode.loss_ce: 0.0680  decode.acc_seg: 64.4318  aux.loss_ce: 0.0279  aux.acc_seg: 60.2386\n",
      "06/12 10:32:56 - mmengine - \u001b[4m\u001b[37mINFO\u001b[0m - Iter(train) [ 300/3000]  lr: 9.9334e-03  eta: 0:15:17  time: 0.3309  data_time: 0.0088  memory: 3774  loss: 0.0918  decode.loss_ce: 0.0648  decode.acc_seg: 44.8364  aux.loss_ce: 0.0270  aux.acc_seg: 40.9851\n",
      "06/12 10:33:29 - mmengine - \u001b[4m\u001b[37mINFO\u001b[0m - Iter(train) [ 400/3000]  lr: 9.9111e-03  eta: 0:14:41  time: 0.3369  data_time: 0.0099  memory: 3774  loss: 0.0789  decode.loss_ce: 0.0553  decode.acc_seg: 69.4763  aux.loss_ce: 0.0236  aux.acc_seg: 71.9421\n",
      "06/12 10:33:42 - mmengine - \u001b[4m\u001b[37mINFO\u001b[0m - per class results:\n",
      "06/12 10:33:42 - mmengine - \u001b[4m\u001b[37mINFO\u001b[0m - \n",
      "+------------+-------+-------+\n",
      "|   Class    |  IoU  |  Acc  |\n",
      "+------------+-------+-------+\n",
      "|    Land    | 56.57 | 89.17 |\n",
      "|    Road    |  1.51 |  1.52 |\n",
      "|  Building  |  2.57 |  2.58 |\n",
      "| Vegetation | 19.05 | 23.38 |\n",
      "|   Water    | 25.67 | 52.17 |\n",
      "| Unlabeled  |  0.0  |  0.0  |\n",
      "+------------+-------+-------+\n",
      "06/12 10:33:42 - mmengine - \u001b[4m\u001b[37mINFO\u001b[0m - Iter(val) [15/15]    aAcc: 56.1000  mIoU: 17.5600  mAcc: 28.1400  data_time: 0.0221  time: 0.8091\n",
      "06/12 10:34:22 - mmengine - \u001b[4m\u001b[37mINFO\u001b[0m - Iter(train) [ 500/3000]  lr: 9.8888e-03  eta: 0:14:37  time: 0.3325  data_time: 0.0092  memory: 4345  loss: 0.0838  decode.loss_ce: 0.0591  decode.acc_seg: 70.1172  aux.loss_ce: 0.0247  aux.acc_seg: 69.3970\n",
      "06/12 10:34:55 - mmengine - \u001b[4m\u001b[37mINFO\u001b[0m - Iter(train) [ 600/3000]  lr: 9.8665e-03  eta: 0:13:55  time: 0.3342  data_time: 0.0106  memory: 3774  loss: 0.0793  decode.loss_ce: 0.0560  decode.acc_seg: 49.1516  aux.loss_ce: 0.0233  aux.acc_seg: 45.8679\n",
      "06/12 10:35:28 - mmengine - \u001b[4m\u001b[37mINFO\u001b[0m - Iter(train) [ 700/3000]  lr: 9.8442e-03  eta: 0:13:16  time: 0.3335  data_time: 0.0097  memory: 3774  loss: 0.0816  decode.loss_ce: 0.0580  decode.acc_seg: 63.0524  aux.loss_ce: 0.0237  aux.acc_seg: 63.3209\n"
     ]
    }
   ],
   "source": [
    "runner.train()"
   ]
  },
  {
   "cell_type": "code",
   "execution_count": null,
   "metadata": {},
   "outputs": [],
   "source": []
  }
 ],
 "metadata": {
  "accelerator": "GPU",
  "colab": {
   "collapsed_sections": [],
   "include_colab_link": true,
   "name": "MMSegmentation Tutorial.ipynb",
   "provenance": []
  },
  "kernelspec": {
   "display_name": "Python 3 (ipykernel)",
   "language": "python",
   "name": "python3"
  },
  "language_info": {
   "codemirror_mode": {
    "name": "ipython",
    "version": 3
   },
   "file_extension": ".py",
   "mimetype": "text/x-python",
   "name": "python",
   "nbconvert_exporter": "python",
   "pygments_lexer": "ipython3",
   "version": "3.7.10"
  },
  "pycharm": {
   "stem_cell": {
    "cell_type": "raw",
    "metadata": {
     "collapsed": false
    },
    "source": []
   }
  },
  "vscode": {
   "interpreter": {
    "hash": "20d4b83e0c8b3730b580c42434163d64f4b735d580303a8fade7c849d4d29eba"
   }
  }
 },
 "nbformat": 4,
 "nbformat_minor": 4
}
